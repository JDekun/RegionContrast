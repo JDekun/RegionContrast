{
 "cells": [
  {
   "cell_type": "code",
   "execution_count": 3,
   "metadata": {},
   "outputs": [
    {
     "name": "stdout",
     "output_type": "stream",
     "text": [
      "/home/zk/anaconda3/lib/python3.9/site-packages/torch/distributed/launch.py:180: FutureWarning: The module torch.distributed.launch is deprecated\n",
      "and will be removed in future. Use torchrun.\n",
      "Note that --use_env is set by default in torchrun.\n",
      "If your script expects `--local_rank` argument to be set, please\n",
      "change it to read from `os.environ['LOCAL_RANK']` instead. See \n",
      "https://pytorch.org/docs/stable/distributed.html#launch-utility for \n",
      "further instructions\n",
      "\n",
      "  warnings.warn(\n",
      "WARNING:torch.distributed.run:\n",
      "*****************************************\n",
      "Setting OMP_NUM_THREADS environment variable for each process to be 1 in default, to avoid your system being overloaded, please further tune the variable for optimal performance in your application as needed. \n",
      "*****************************************\n",
      "rank,world_sizerank,world_size  02  33\n",
      "\n",
      "set random seed to 123\n",
      "2023-04-09 08:42:40,982-rk0-train_contrast.py#63:{'dataset': {'type': 'cityscapes', 'train': {'data_root': '../../../../input/cityscapes/Cityscape', 'data_list': './cityscapes/train.txt', 'flip': True, 'GaussianBlur': False, 'rand_resize': [0.5, 2.0], 'crop': {'type': 'rand', 'size': [769, 769]}}, 'val': {'data_root': '../../../../input/cityscapes/Cityscape', 'data_list': './cityscapes/val.txt', 'crop': {'type': 'center', 'size': [769, 769]}}, 'batch_size': 2, 'batch_size_val': 12, 'workers': 1, 'mean': [123.675, 116.28, 103.53], 'std': [58.395, 57.12, 57.375], 'ignore_label': 255}, 'trainer': {'epochs': 100, 'start_epochs': 0, 'eval_on': True, 'optimizer': {'type': 'SGD', 'kwargs': {'lr': 0.01, 'momentum': 0.9, 'weight_decay': 0.0005}}, 'lr_scheduler': {'mode': 'poly', 'kwargs': {'power': 0.9}}}, 'saver': {'snapshot_dir': 'checkpoints', 'pretrain': ''}, 'criterion': {'type': 'ohem', 'contrast_weight': 0.1, 'kwargs': {'thresh': 0.7, 'min_kept': 100000}}, 'net': {'num_classes': 19, 'sync_bn': True, 'aux_loss': {'aux_plane': 1024, 'loss_weight': 0.4}, 'encoder': {'type': 'pyseg.models.resnet.resnet50', 'kwargs': {'multi_grid': True, 'zero_init_residual': True, 'replace_stride_with_dilation': [False, True, True]}}, 'decoder': {'type': 'pyseg.models.decoder_contrast.dec_deeplabv3_contrast', 'kwargs': {'inner_planes': 256, 'dilations': [12, 24, 36]}}}}\n",
      "set random seed to 123\n",
      "rank,world_size 1 3\n",
      "set random seed to 123\n",
      "missing_keys:  []\n",
      "unexpected_keys:  ['fc.weight', 'fc.bias']\n",
      "missing_keys:  []\n",
      "unexpected_keys:  ['fc.weight', 'fc.bias']\n",
      "missing_keys:  []\n",
      "unexpected_keys:  ['fc.weight', 'fc.bias']\n",
      "^C\n"
     ]
    }
   ],
   "source": [
    "!now=$(date +\"%Y%m%d_%H%M%S\"); \\\n",
    "export CUDA_VISIBLE_DEVICES=1,2,3; \\\n",
    "python -m torch.distributed.launch --nproc_per_node=3 --master_port 29523 ../../train_contrast.py \\\n",
    "    --config=config.yaml \\\n",
    "    --batch_size 2 --batch_size_val 12 \\\n",
    "    --epochs 100 \\\n",
    "    --save_dir $now \\\n",
    "    2>&1 | tee log_$now.log"
   ]
  }
 ],
 "metadata": {
  "kernelspec": {
   "display_name": "base",
   "language": "python",
   "name": "python3"
  },
  "language_info": {
   "codemirror_mode": {
    "name": "ipython",
    "version": 3
   },
   "file_extension": ".py",
   "mimetype": "text/x-python",
   "name": "python",
   "nbconvert_exporter": "python",
   "pygments_lexer": "ipython3",
   "version": "3.9.13"
  },
  "orig_nbformat": 4
 },
 "nbformat": 4,
 "nbformat_minor": 2
}
